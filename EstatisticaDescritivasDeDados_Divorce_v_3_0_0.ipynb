{
  "nbformat": 4,
  "nbformat_minor": 0,
  "metadata": {
    "colab": {
      "name": "EstatisticaDescritivasDeDados_Divorce_v.3.0.0.ipynb",
      "provenance": [],
      "collapsed_sections": []
    },
    "kernelspec": {
      "name": "python3",
      "display_name": "Python 3"
    }
  },
  "cells": [
    {
      "cell_type": "code",
      "metadata": {
        "id": "PE6AMjVGcYXH",
        "colab_type": "code",
        "colab": {}
      },
      "source": [
        "import numpy as np\n",
        "import os\n",
        "import pandas as pd\n",
        "import matplotlib.pyplot as plt\n",
        "import seaborn as sns\n",
        "import warnings\n",
        "warnings.filterwarnings('ignore')\n",
        "from scipy import stats\n",
        "from astropy.visualization import hist"
      ],
      "execution_count": 0,
      "outputs": []
    },
    {
      "cell_type": "code",
      "metadata": {
        "id": "Rs8eG_gZcZdH",
        "colab_type": "code",
        "outputId": "19471795-7041-4a79-b829-b531e5b83805",
        "colab": {
          "base_uri": "https://localhost:8080/",
          "height": 124
        }
      },
      "source": [
        "from google.colab import drive\n",
        "drive.mount('/content/drive/')"
      ],
      "execution_count": 2,
      "outputs": [
        {
          "output_type": "stream",
          "text": [
            "Go to this URL in a browser: https://accounts.google.com/o/oauth2/auth?client_id=947318989803-6bn6qk8qdgf4n4g3pfee6491hc0brc4i.apps.googleusercontent.com&redirect_uri=urn%3aietf%3awg%3aoauth%3a2.0%3aoob&response_type=code&scope=email%20https%3a%2f%2fwww.googleapis.com%2fauth%2fdocs.test%20https%3a%2f%2fwww.googleapis.com%2fauth%2fdrive%20https%3a%2f%2fwww.googleapis.com%2fauth%2fdrive.photos.readonly%20https%3a%2f%2fwww.googleapis.com%2fauth%2fpeopleapi.readonly\n",
            "\n",
            "Enter your authorization code:\n",
            "··········\n",
            "Mounted at /content/drive/\n"
          ],
          "name": "stdout"
        }
      ]
    },
    {
      "cell_type": "code",
      "metadata": {
        "id": "6yPkHv03caY4",
        "colab_type": "code",
        "outputId": "2367b953-f11a-4231-acab-eac994d736b0",
        "colab": {
          "base_uri": "https://localhost:8080/",
          "height": 35
        }
      },
      "source": [
        "print(os.listdir('/content/drive/My Drive/Colab Notebooks/Divorce'))"
      ],
      "execution_count": 3,
      "outputs": [
        {
          "output_type": "stream",
          "text": [
            "['divorce.csv', 'divorce.xlsx', 'divorce.rar', '~$divorce.xlsx']\n"
          ],
          "name": "stdout"
        }
      ]
    },
    {
      "cell_type": "code",
      "metadata": {
        "id": "l9wXO0k4c92l",
        "colab_type": "code",
        "colab": {}
      },
      "source": [
        "# Nesta etapa do projeto será realizado testes de hipóteses com intuito de determinar quais resultados podem levar à rejeição da hipótese nula.\n",
        "# Será utilizado o mesmo dataset:\n",
        "# https://archive.ics.uci.edu/ml/datasets/Divorce+Predictors+data+set \n",
        "# Contêm 54 perguntas (features) para avaliar casamento.\n",
        "\n",
        "# Foram respondidas por dois groupos:\n",
        "#   1) Divorciados (coluna \"Class\" igual a 1)\n",
        "#   2) Casados (coluna \"Class\" igual a 0)\n",
        "\n",
        "# Vamos utilizar conceitos de: z-score, margem de erro, intervalo de confiança e teste de hipotese para descobrir:\n",
        "#    1) Quais as perguntas chaves para determinar se um relacionamento está fadado ao fracasso\n",
        "#    2) Prever, com estatisticas simples, se um casal é divorciado ou não\n",
        "#    3) Responder o que representa as respostas 0,1,2,3 e 4.\n",
        "\n",
        "divorce = pd.read_csv('/content/drive/My Drive/Colab Notebooks/Divorce/divorce.csv',sep=';')"
      ],
      "execution_count": 0,
      "outputs": []
    },
    {
      "cell_type": "code",
      "metadata": {
        "id": "ADQ49IoimFXm",
        "colab_type": "code",
        "colab": {}
      },
      "source": [
        "# No exercicio 01 descobrimos que as features abaixo são as perguntas mais relevantes para determinar o sucesso de um casamento ou não.\n",
        "# São nelas que vamos nos basear para dar sequência a parte III deste projeto. \n",
        "\n",
        "divorce_discussion = divorce[['Atr33','Atr34','Atr35','Atr36','Atr37','Atr39','Atr40','Atr46','Atr48','Class']]\n",
        "\n",
        "# Relembrando as perguntas:\n",
        "\n",
        "# 33. I can use negative statements about my spouse's personality during our discussions.\n",
        "# 34. I can use offensive expressions during our discussions.\n",
        "# 35. I can insult my spouse during our discussions.\n",
        "# 36. I can be humiliating when we discussions.\n",
        "# 37. My discussion with my spouse is not calm.\n",
        "# 39. Our discussions often occur suddenly.\n",
        "# 40. We're just starting a discussion before I know what's going on.\n",
        "# 46. Even if I'm right in the discussion, I stay silent to hurt my spouse.\n",
        "# 48. I feel right in our discussions.\n"
      ],
      "execution_count": 0,
      "outputs": []
    },
    {
      "cell_type": "code",
      "metadata": {
        "id": "V0_90yZOpi9W",
        "colab_type": "code",
        "outputId": "88cf12ba-f9ee-45d8-fb2b-226fc844a9b0",
        "colab": {
          "base_uri": "https://localhost:8080/",
          "height": 294
        }
      },
      "source": [
        "# Entendendo a distribuição dos dados:\n",
        "divorce_discussion.describe()"
      ],
      "execution_count": 94,
      "outputs": [
        {
          "output_type": "execute_result",
          "data": {
            "text/html": [
              "<div>\n",
              "<style scoped>\n",
              "    .dataframe tbody tr th:only-of-type {\n",
              "        vertical-align: middle;\n",
              "    }\n",
              "\n",
              "    .dataframe tbody tr th {\n",
              "        vertical-align: top;\n",
              "    }\n",
              "\n",
              "    .dataframe thead th {\n",
              "        text-align: right;\n",
              "    }\n",
              "</style>\n",
              "<table border=\"1\" class=\"dataframe\">\n",
              "  <thead>\n",
              "    <tr style=\"text-align: right;\">\n",
              "      <th></th>\n",
              "      <th>Atr33</th>\n",
              "      <th>Atr34</th>\n",
              "      <th>Atr35</th>\n",
              "      <th>Atr36</th>\n",
              "      <th>Atr37</th>\n",
              "      <th>Atr39</th>\n",
              "      <th>Atr40</th>\n",
              "      <th>Atr46</th>\n",
              "      <th>Atr48</th>\n",
              "      <th>Class</th>\n",
              "    </tr>\n",
              "  </thead>\n",
              "  <tbody>\n",
              "    <tr>\n",
              "      <th>count</th>\n",
              "      <td>170.000000</td>\n",
              "      <td>170.000000</td>\n",
              "      <td>170.000000</td>\n",
              "      <td>170.000000</td>\n",
              "      <td>170.000000</td>\n",
              "      <td>170.000000</td>\n",
              "      <td>170.000000</td>\n",
              "      <td>170.000000</td>\n",
              "      <td>170.000000</td>\n",
              "      <td>170.000000</td>\n",
              "    </tr>\n",
              "    <tr>\n",
              "      <th>mean</th>\n",
              "      <td>1.805882</td>\n",
              "      <td>1.900000</td>\n",
              "      <td>1.670588</td>\n",
              "      <td>1.605882</td>\n",
              "      <td>2.088235</td>\n",
              "      <td>2.088235</td>\n",
              "      <td>1.870588</td>\n",
              "      <td>2.552941</td>\n",
              "      <td>2.741176</td>\n",
              "      <td>0.494118</td>\n",
              "    </tr>\n",
              "    <tr>\n",
              "      <th>std</th>\n",
              "      <td>1.785202</td>\n",
              "      <td>1.630515</td>\n",
              "      <td>1.842228</td>\n",
              "      <td>1.798412</td>\n",
              "      <td>1.716051</td>\n",
              "      <td>1.719496</td>\n",
              "      <td>1.796039</td>\n",
              "      <td>1.371786</td>\n",
              "      <td>1.137348</td>\n",
              "      <td>0.501442</td>\n",
              "    </tr>\n",
              "    <tr>\n",
              "      <th>min</th>\n",
              "      <td>0.000000</td>\n",
              "      <td>0.000000</td>\n",
              "      <td>0.000000</td>\n",
              "      <td>0.000000</td>\n",
              "      <td>0.000000</td>\n",
              "      <td>0.000000</td>\n",
              "      <td>0.000000</td>\n",
              "      <td>0.000000</td>\n",
              "      <td>0.000000</td>\n",
              "      <td>0.000000</td>\n",
              "    </tr>\n",
              "    <tr>\n",
              "      <th>25%</th>\n",
              "      <td>0.000000</td>\n",
              "      <td>0.000000</td>\n",
              "      <td>0.000000</td>\n",
              "      <td>0.000000</td>\n",
              "      <td>0.000000</td>\n",
              "      <td>0.000000</td>\n",
              "      <td>0.000000</td>\n",
              "      <td>2.000000</td>\n",
              "      <td>2.000000</td>\n",
              "      <td>0.000000</td>\n",
              "    </tr>\n",
              "    <tr>\n",
              "      <th>50%</th>\n",
              "      <td>1.000000</td>\n",
              "      <td>1.000000</td>\n",
              "      <td>0.500000</td>\n",
              "      <td>0.000000</td>\n",
              "      <td>2.000000</td>\n",
              "      <td>2.000000</td>\n",
              "      <td>1.500000</td>\n",
              "      <td>3.000000</td>\n",
              "      <td>3.000000</td>\n",
              "      <td>0.000000</td>\n",
              "    </tr>\n",
              "    <tr>\n",
              "      <th>75%</th>\n",
              "      <td>4.000000</td>\n",
              "      <td>4.000000</td>\n",
              "      <td>4.000000</td>\n",
              "      <td>4.000000</td>\n",
              "      <td>4.000000</td>\n",
              "      <td>4.000000</td>\n",
              "      <td>4.000000</td>\n",
              "      <td>4.000000</td>\n",
              "      <td>4.000000</td>\n",
              "      <td>1.000000</td>\n",
              "    </tr>\n",
              "    <tr>\n",
              "      <th>max</th>\n",
              "      <td>4.000000</td>\n",
              "      <td>4.000000</td>\n",
              "      <td>4.000000</td>\n",
              "      <td>4.000000</td>\n",
              "      <td>4.000000</td>\n",
              "      <td>4.000000</td>\n",
              "      <td>4.000000</td>\n",
              "      <td>4.000000</td>\n",
              "      <td>4.000000</td>\n",
              "      <td>1.000000</td>\n",
              "    </tr>\n",
              "  </tbody>\n",
              "</table>\n",
              "</div>"
            ],
            "text/plain": [
              "            Atr33       Atr34       Atr35  ...       Atr46       Atr48       Class\n",
              "count  170.000000  170.000000  170.000000  ...  170.000000  170.000000  170.000000\n",
              "mean     1.805882    1.900000    1.670588  ...    2.552941    2.741176    0.494118\n",
              "std      1.785202    1.630515    1.842228  ...    1.371786    1.137348    0.501442\n",
              "min      0.000000    0.000000    0.000000  ...    0.000000    0.000000    0.000000\n",
              "25%      0.000000    0.000000    0.000000  ...    2.000000    2.000000    0.000000\n",
              "50%      1.000000    1.000000    0.500000  ...    3.000000    3.000000    0.000000\n",
              "75%      4.000000    4.000000    4.000000  ...    4.000000    4.000000    1.000000\n",
              "max      4.000000    4.000000    4.000000  ...    4.000000    4.000000    1.000000\n",
              "\n",
              "[8 rows x 10 columns]"
            ]
          },
          "metadata": {
            "tags": []
          },
          "execution_count": 94
        }
      ]
    },
    {
      "cell_type": "code",
      "metadata": {
        "id": "oZwXxT-d1sqZ",
        "colab_type": "code",
        "colab": {}
      },
      "source": [
        "# Separando em arrays diferentes os casados e divorciados\n",
        "def separate_by_class(dataset):\n",
        "  classes = np.unique(dataset['Class'])\n",
        "\n",
        "  separated = []\n",
        "  for cl in classes:\n",
        "    separated.append(dataset[dataset['Class'] == cl].drop(['Class'], axis=1))\n",
        "\n",
        "  return separated\n",
        "\n",
        "separated = separate_by_class(divorce_discussion)\n",
        "separated_geral = separate_by_class(divorce)"
      ],
      "execution_count": 0,
      "outputs": []
    },
    {
      "cell_type": "code",
      "metadata": {
        "id": "GIpu7sm7uoVl",
        "colab_type": "code",
        "colab": {},
        "cellView": "form"
      },
      "source": [
        "#@title  Comparando escores-z de conjuntos dos casados e divorciados\n"
      ],
      "execution_count": 0,
      "outputs": []
    },
    {
      "cell_type": "code",
      "metadata": {
        "id": "hhbEZLjInlPL",
        "colab_type": "code",
        "colab": {}
      },
      "source": [
        "# Construindo array, das features selecionadas, para verificar a distribuição normal dos casados e divorciados\n",
        "d_mean_features = []\n",
        "c_mean_features = []\n",
        "for i in separated[1]:\n",
        "  d_mean_features.append(separated[1][i].mean())\n",
        "  c_mean_features.append(separated[0][i].mean())"
      ],
      "execution_count": 0,
      "outputs": []
    },
    {
      "cell_type": "code",
      "metadata": {
        "id": "e74Adjeeq8TP",
        "colab_type": "code",
        "colab": {}
      },
      "source": [
        "# Construindo array, sem amostragem, para verificar a distribuição normal dos casados e divorciados\n",
        "d_mean_geral = []\n",
        "c_mean_geral = []\n",
        "for i in divorce.columns:\n",
        "  if i not in 'Class':\n",
        "    d_mean_geral.append(separated_geral[1][i].mean())\n",
        "    c_mean_geral.append(separated_geral[0][i].mean())"
      ],
      "execution_count": 0,
      "outputs": []
    },
    {
      "cell_type": "code",
      "metadata": {
        "id": "1ytSfzGhtoFT",
        "colab_type": "code",
        "colab": {
          "base_uri": "https://localhost:8080/",
          "height": 307
        },
        "outputId": "fb88db04-f697-4a54-bf39-716ae3a93d43"
      },
      "source": [
        "sns.distplot(d_mean_geral, color='blue')\n",
        "plt.title(\"Distribuição da amostra das médias dos divorciados\", y=1.015, fontsize=10)\n",
        "plt.xlabel(\"Média dos divorciados\", labelpad=14)\n",
        "plt.ylabel(\"Frequencia de occorrência\", labelpad=14);"
      ],
      "execution_count": 155,
      "outputs": [
        {
          "output_type": "display_data",
          "data": {
            "image/png": "[encoded data removed]",
            "text/plain": [
              "<Figure size 432x288 with 1 Axes>"
            ]
          },
          "metadata": {
            "tags": []
          }
        }
      ]
    },
    {
      "cell_type": "code",
      "metadata": {
        "id": "jfYVJhITw3IO",
        "colab_type": "code",
        "colab": {
          "base_uri": "https://localhost:8080/",
          "height": 307
        },
        "outputId": "78b1173e-ede3-44cd-9250-bcced2bdeeee"
      },
      "source": [
        "sns.distplot(d_mean_features, color='green')\n",
        "plt.title(\"Distribuição da amostra das médias das features dos divorciados\", y=1.015, fontsize=10)\n",
        "plt.xlabel(\"Média dos divorciados\", labelpad=14)\n",
        "plt.ylabel(\"Frequencia de occorrência\", labelpad=14);"
      ],
      "execution_count": 159,
      "outputs": [
        {
          "output_type": "display_data",
          "data": {
            "image/png": "[encoded data removed]",
            "text/plain": [
              "<Figure size 432x288 with 1 Axes>"
            ]
          },
          "metadata": {
            "tags": []
          }
        }
      ]
    },
    {
      "cell_type": "code",
      "metadata": {
        "id": "GBUtGbtPttN_",
        "colab_type": "code",
        "colab": {
          "base_uri": "https://localhost:8080/",
          "height": 307
        },
        "outputId": "70f4afe7-d8f3-44a2-b72c-5651bb82f776"
      },
      "source": [
        "sns.distplot(c_mean_geral, color='red')\n",
        "plt.title(\"Distribuição da amostra das médias dos casados\", y=1.015, fontsize=10)\n",
        "plt.xlabel(\"Média dos casados\", labelpad=14)\n",
        "plt.ylabel(\"Frequencia de occorrência\", labelpad=14);"
      ],
      "execution_count": 160,
      "outputs": [
        {
          "output_type": "display_data",
          "data": {
            "image/png": "[encoded data removed]",
            "text/plain": [
              "<Figure size 432x288 with 1 Axes>"
            ]
          },
          "metadata": {
            "tags": []
          }
        }
      ]
    },
    {
      "cell_type": "code",
      "metadata": {
        "id": "UT6j-AVuqrXU",
        "colab_type": "code",
        "colab": {
          "base_uri": "https://localhost:8080/",
          "height": 307
        },
        "outputId": "80a6ca5c-329e-434e-dcf6-705e38910f24"
      },
      "source": [
        "sns.distplot(c_mean_features, color='pink')\n",
        "plt.title(\"Distribuição da amostra das médias das features dos casados\", y=1.015, fontsize=10)\n",
        "plt.xlabel(\"Média dos casados\", labelpad=14)\n",
        "plt.ylabel(\"Frequencia de occorrência\", labelpad=14);"
      ],
      "execution_count": 162,
      "outputs": [
        {
          "output_type": "display_data",
          "data": {
            "image/png": "[encoded data removed]",
            "text/plain": [
              "<Figure size 432x288 with 1 Axes>"
            ]
          },
          "metadata": {
            "tags": []
          }
        }
      ]
    },
    {
      "cell_type": "code",
      "metadata": {
        "id": "hvYn_K2ov-2f",
        "colab_type": "code",
        "colab": {
          "base_uri": "https://localhost:8080/",
          "height": 69
        },
        "outputId": "6c4b7c6f-a89d-4fa4-e1e1-b1122714b37d"
      },
      "source": [
        "# Média geral: divorciados\n",
        "Gm = format(separated_geral[1].mean().mean(),'.2f')\n",
        "Sm = format(separated_geral[1].std().std(),'.2f')\n",
        "\n",
        "# Média amostragem: divorciados\n",
        "\n",
        "Dm = format(separated[1].mean().mean(),'.2f')\n",
        "\n",
        "print('Média geral divorciado  = {}'.format(Gm))\n",
        "print('Desvio padrão divorciado  = {}'.format(Gd))\n",
        "print('Média divorciados features  = {}'.format(Dm))"
      ],
      "execution_count": 228,
      "outputs": [
        {
          "output_type": "stream",
          "text": [
            "Média geral divorciado  = 3.05\n",
            "Desvio padrão divorciado  = 0.23\n",
            "Média divorciados features  = 3.39\n"
          ],
          "name": "stdout"
        }
      ]
    },
    {
      "cell_type": "code",
      "metadata": {
        "id": "YLlkMui-x6z6",
        "colab_type": "code",
        "colab": {}
      },
      "source": [
        "def zscore(x, mi, sigma):\n",
        "  return (x - mi)/(sigma)"
      ],
      "execution_count": 0,
      "outputs": []
    },
    {
      "cell_type": "code",
      "metadata": {
        "id": "ClK6EL6Ax91T",
        "colab_type": "code",
        "colab": {
          "base_uri": "https://localhost:8080/",
          "height": 35
        },
        "outputId": "3464ab99-cd50-4ed5-a6d9-b6156910aac5"
      },
      "source": [
        "x = 3.05\n",
        "sigma = 0.23\n",
        "xi = 3.39\n",
        "\n",
        "zDivFeat = zscore(xi, x, sigma)\n",
        "print('O escore-z para os divorciados da amostra está cerca de:', zDivFeat)"
      ],
      "execution_count": 182,
      "outputs": [
        {
          "output_type": "stream",
          "text": [
            "O escore-z para os divorciados da amostra está cerca de: 1.4782608695652186\n"
          ],
          "name": "stdout"
        }
      ]
    },
    {
      "cell_type": "code",
      "metadata": {
        "id": "DbvhD0Yb2wrX",
        "colab_type": "code",
        "colab": {
          "base_uri": "https://localhost:8080/",
          "height": 69
        },
        "outputId": "42df3179-779b-4b98-c405-8887fe7d3f3b"
      },
      "source": [
        "# Média geral: casados\n",
        "Gm = format(separated_geral[0].mean().mean(),'.2f')\n",
        "Sm = format(separated_geral[0].std().std(),'.2f')\n",
        "\n",
        "# Média amostragem: casados\n",
        "\n",
        "Dm = format(separated[0].mean().mean(),'.2f')\n",
        "\n",
        "print('Média geral casado  = {}'.format(Gm))\n",
        "print('Desvio padrão casado  = {}'.format(Gd))\n",
        "\n",
        "print('Média casados features  = {}'.format(Dm))"
      ],
      "execution_count": 229,
      "outputs": [
        {
          "output_type": "stream",
          "text": [
            "Média geral casado  = 0.55\n",
            "Desvio padrão casado  = 0.23\n",
            "Média casados features  = 0.71\n"
          ],
          "name": "stdout"
        }
      ]
    },
    {
      "cell_type": "code",
      "metadata": {
        "id": "vJBxYeiMx-ts",
        "colab_type": "code",
        "colab": {
          "base_uri": "https://localhost:8080/",
          "height": 35
        },
        "outputId": "d0752165-f386-4e8b-80df-535250f100d2"
      },
      "source": [
        "x = 0.55\n",
        "sigma = 0.23\n",
        "xi = 0.71\n",
        "\n",
        "zCasFeat = zscore(xi, x, sigma)\n",
        "print('O escore-z para os Casados da amostra está cerca de:', zCasFeat)"
      ],
      "execution_count": 184,
      "outputs": [
        {
          "output_type": "stream",
          "text": [
            "O escore-z para os Casados da amostra está cerca de: 0.6956521739130431\n"
          ],
          "name": "stdout"
        }
      ]
    },
    {
      "cell_type": "code",
      "metadata": {
        "id": "g6JNqfuVFQQu",
        "colab_type": "code",
        "colab": {
          "base_uri": "https://localhost:8080/",
          "height": 35
        },
        "outputId": "f9aac769-52e9-4a6e-ea49-8973bcb38e3a"
      },
      "source": [
        "# Margem de erro\n",
        "print('N: ', len(separated_geral[1]))"
      ],
      "execution_count": 224,
      "outputs": [
        {
          "output_type": "stream",
          "text": [
            "N:  84\n"
          ],
          "name": "stdout"
        }
      ]
    },
    {
      "cell_type": "code",
      "metadata": {
        "id": "zz1JuK_lFjF0",
        "colab_type": "code",
        "colab": {}
      },
      "source": [
        "def margemErro(z, sigma, n):\n",
        "    return (z)* (sigma/np.sqrt(n))"
      ],
      "execution_count": 0,
      "outputs": []
    },
    {
      "cell_type": "code",
      "metadata": {
        "id": "VS9kJFqcFk6b",
        "colab_type": "code",
        "colab": {
          "base_uri": "https://localhost:8080/",
          "height": 35
        },
        "outputId": "927f93d6-cdc0-48fa-8ef9-17ddf91cb16e"
      },
      "source": [
        "z = 1.96\n",
        "sigma = 0.23\n",
        "n = 84\n",
        "margemErro = calc_margemErro(z, sigma, n)\n",
        "print('margemErro: ', margemErro)"
      ],
      "execution_count": 226,
      "outputs": [
        {
          "output_type": "stream",
          "text": [
            "margemErro:  0.04918631245919269\n"
          ],
          "name": "stdout"
        }
      ]
    },
    {
      "cell_type": "code",
      "metadata": {
        "id": "Xo00yfG1Gacp",
        "colab_type": "code",
        "colab": {}
      },
      "source": [
        "# Logo estamos 95% confiantes que a margem de erro para a média dos divorciados e casados é de ~ 0.04, já que o desvio padrão é igual."
      ],
      "execution_count": 0,
      "outputs": []
    },
    {
      "cell_type": "code",
      "metadata": {
        "id": "v8EjjNnCRa0j",
        "colab_type": "code",
        "colab": {},
        "cellView": "form"
      },
      "source": [
        "#@title Hypotheses Test\n"
      ],
      "execution_count": 0,
      "outputs": []
    },
    {
      "cell_type": "code",
      "metadata": {
        "id": "6En_lX-TVTpz",
        "colab_type": "code",
        "colab": {}
      },
      "source": [
        "import scipy.stats as st\n",
        "import numpy as np\n",
        "\n",
        "def calc_z0(xm, mi, sigma, n):\n",
        "  return (xm - mi)/(sigma/np.sqrt(n))\n",
        "\n",
        "def decision_normal(z0, alpha, unilateral=True, right=True):\n",
        "  p = st.norm.cdf(z0)\n",
        "  if unilateral:\n",
        "    if right:\n",
        "      reject = (p > (1.0 - alpha))\n",
        "    else:\n",
        "      reject = (p < alpha)\n",
        "  else:\n",
        "    reject = ((p < (alpha/2)) | (p > (1.0 - alpha/2)))\n",
        "\n",
        "  return reject"
      ],
      "execution_count": 0,
      "outputs": []
    },
    {
      "cell_type": "code",
      "metadata": {
        "id": "gWo0yqFmSimM",
        "colab_type": "code",
        "colab": {
          "base_uri": "https://localhost:8080/",
          "height": 87
        },
        "outputId": "d74592b6-51b6-45d2-ff5a-30dd731d2528"
      },
      "source": [
        "# Para o estudo de Hypotheses Test vamos utilizar o conjunto dos divorciados das features mais relevantes\n",
        "\n",
        "divorce_sample = separated[1]\n",
        "\n",
        "n = len(divorce_sample)\n",
        "xm = divorce_sample.mean().mean()\n",
        "s = np.std(divorce_sample).std()\n",
        "mi = separated_geral[1].mean().mean()\n",
        "\n",
        "print('Tamanho da amostra: ' + str(n))\n",
        "print('Média da amostra: ' + str(xm))\n",
        "print('Desvio padrão da amostra: ' + str(s))\n",
        "print('Média dos divorciados: ' + str(mi))"
      ],
      "execution_count": 217,
      "outputs": [
        {
          "output_type": "stream",
          "text": [
            "Tamanho da amostra: 84\n",
            "Média da amostra: 3.3928571428571432\n",
            "Desvio padrão da amostra: 0.20747466113040383\n",
            "Média dos divorciados: 3.046516754850088\n"
          ],
          "name": "stdout"
        }
      ]
    },
    {
      "cell_type": "code",
      "metadata": {
        "id": "-Y82_s-AVP6z",
        "colab_type": "code",
        "colab": {
          "base_uri": "https://localhost:8080/",
          "height": 69
        },
        "outputId": "d9549fc7-b25d-43e4-8feb-41fb9566c38d"
      },
      "source": [
        "# Foi verificado que a média geral dos divorciados é de 3.0. \n",
        "\n",
        "# Para amostra dos divorciados das features mais relevantes deu uma média de 3.39. Nosso interesse será testar a hipótese de que a idade média \n",
        "# dos divorciados é de 3.39, considerando o nı́vel de significância de 5%.\n",
        "\n",
        "alpha = 0.05\n",
        "sigma = s\n",
        "\n",
        "z0 = calc_z0(xm, mi, sigma, n)\n",
        "p_z0 = st.norm.cdf(z0)\n",
        "print('p(z0) = ', p_z0)\n",
        "reject = decision_normal(z0, alpha, unilateral=False)\n",
        "if(reject):\n",
        "  print('H_0 rejeitada')\n",
        "  print('A média não é de 3.39')\n",
        "else:\n",
        "  print('H_0 não rejeitada')\n",
        "  print('Não há evidência que a média não seja de 3.39')"
      ],
      "execution_count": 218,
      "outputs": [
        {
          "output_type": "stream",
          "text": [
            "p(z0) =  1.0\n",
            "H_0 rejeitada\n",
            "A média não é de 3.39\n"
          ],
          "name": "stdout"
        }
      ]
    }
  ]
}